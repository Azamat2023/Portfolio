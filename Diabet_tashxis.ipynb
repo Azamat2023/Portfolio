{
 "cells": [
  {
   "cell_type": "code",
   "execution_count": 1,
   "id": "129af6a5-dd6b-4c6a-b0d6-667954b33055",
   "metadata": {},
   "outputs": [
    {
     "name": "stdout",
     "output_type": "stream",
     "text": [
      "classification_report: \n",
      "               precision    recall  f1-score   support\n",
      "\n",
      "           0       0.84      0.73      0.78       400\n",
      "           1       0.60      0.73      0.66       214\n",
      "\n",
      "    accuracy                           0.73       614\n",
      "   macro avg       0.72      0.73      0.72       614\n",
      "weighted avg       0.75      0.73      0.74       614\n",
      "\n"
     ]
    }
   ],
   "source": [
    "import pandas as pd\n",
    "import numpy as np\n",
    "from sklearn.model_selection import train_test_split, cross_val_predict\n",
    "from imblearn.over_sampling import SMOTE\n",
    "from imblearn.pipeline import Pipeline\n",
    "from sklearn.preprocessing import StandardScaler\n",
    "from sklearn.neighbors import KNeighborsClassifier\n",
    "from sklearn.metrics import classification_report\n",
    "\n",
    "# Dataset\n",
    "df = pd.read_csv('diabetes.csv')\n",
    "X = df.drop('Outcome', axis=1)\n",
    "y = df['Outcome']\n",
    "\n",
    "# Train-test split (testga SMOTE qo‘llanmaydi)\n",
    "X_train, X_test, y_train, y_test = train_test_split(\n",
    "    X, y, test_size=0.2, random_state=42, stratify=y\n",
    ")\n",
    "\n",
    "# Pipeline: Standartlashtirish + SMOTE + KNN\n",
    "pipeline = Pipeline([\n",
    "    ('scaler', StandardScaler()),\n",
    "    ('smote', SMOTE(random_state=42)),\n",
    "    ('knn', KNeighborsClassifier(n_neighbors=14))\n",
    "])\n",
    "\n",
    "# cross_val_predict bilan cross-validation (faqat training setda!)\n",
    "predict = cross_val_predict(pipeline, X_train, y_train, cv=5)\n",
    "\n",
    "# Modelni baholash\n",
    "print(\"classification_report: \\n\", classification_report(y_train, predict))\n"
   ]
  },
  {
   "cell_type": "code",
   "execution_count": 2,
   "id": "57fb3390-9c91-4be5-b926-5ae0df869429",
   "metadata": {},
   "outputs": [
    {
     "name": "stdout",
     "output_type": "stream",
     "text": [
      "TEST classification_report: \n",
      "               precision    recall  f1-score   support\n",
      "\n",
      "           0       0.80      0.63      0.70       100\n",
      "           1       0.51      0.70      0.59        54\n",
      "\n",
      "    accuracy                           0.66       154\n",
      "   macro avg       0.65      0.67      0.65       154\n",
      "weighted avg       0.70      0.66      0.66       154\n",
      "\n"
     ]
    }
   ],
   "source": [
    "# Train to‘liq qilib, testga baho berish:\n",
    "pipeline.fit(X_train, y_train)\n",
    "y_pred = pipeline.predict(X_test)\n",
    "\n",
    "print(\"TEST classification_report: \\n\", classification_report(y_test, y_pred))\n"
   ]
  },
  {
   "cell_type": "code",
   "execution_count": null,
   "id": "46af6957-476e-4c92-a8f2-da9c340bfc22",
   "metadata": {},
   "outputs": [],
   "source": []
  }
 ],
 "metadata": {
  "kernelspec": {
   "display_name": "Python 3 (ipykernel)",
   "language": "python",
   "name": "python3"
  },
  "language_info": {
   "codemirror_mode": {
    "name": "ipython",
    "version": 3
   },
   "file_extension": ".py",
   "mimetype": "text/x-python",
   "name": "python",
   "nbconvert_exporter": "python",
   "pygments_lexer": "ipython3",
   "version": "3.12.11"
  }
 },
 "nbformat": 4,
 "nbformat_minor": 5
}
